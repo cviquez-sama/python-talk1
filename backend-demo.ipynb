{
 "nbformat": 4,
 "nbformat_minor": 2,
 "metadata": {
  "language_info": {
   "name": "python",
   "codemirror_mode": {
    "name": "ipython",
    "version": 3
   }
  },
  "orig_nbformat": 2,
  "file_extension": ".py",
  "mimetype": "text/x-python",
  "name": "python",
  "npconvert_exporter": "python",
  "pygments_lexer": "ipython3",
  "version": 3
 },
 "cells": [
  {
   "cell_type": "code",
   "execution_count": null,
   "metadata": {},
   "outputs": [],
   "source": [
    "!pip3 install pandas\n",
    "!pip3 install matplotlib\n",
    "!pip3 install scipy\n",
    "!pip3 install seaborn\n",
    "\n",
    "import requests\n",
    "import pandas as pd\n",
    "import numpy as np\n",
    "from numpy import sqrt\n",
    "from pandas import *\n",
    "from matplotlib import pyplot\n",
    "from pandas.plotting import *\n",
    "import scipy.stats as stats\n",
    "import seaborn as sns\n",
    "import warnings\n",
    "warnings.filterwarnings('ignore')\n",
    "sns.set(style='whitegrid', palette='colorblind')\n",
    "\n",
    "response = requests.get('http://192.168.0.2:5000/olympics')\n",
    "data = pd.read_json(response.text)\n",
    "\n",
    "data.head(10)\n",
    "\n",
    "data.groupby('continent')['continent'].count().plot(kind='bar',color='blue',figsize=(10,5))\n",
    "pyplot.show()\n",
    "\n",
    "corr = data.corr('spearman')\n",
    "mask = np.zeros_like(corr, dtype=np.bool)\n",
    "mask[np.triu_indices_from(mask)] = True\n",
    "f, ax = pyplot.subplots(figsize=(8, 6))\n",
    "cmap = sns.diverging_palette(220, 10, as_cmap=True)\n",
    "sns.heatmap(corr, mask=mask, vmax=1,square=True, linewidths=.5, cbar_kws={\"shrink\": .5}, ax=ax, annot=True)\n",
    "pyplot.show()\n",
    "pyplot.close()"
   ]
  }
 ]
}